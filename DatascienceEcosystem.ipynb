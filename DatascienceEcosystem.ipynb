{
 "cells": [
  {
   "cell_type": "markdown",
   "id": "02b4af4a-69af-4821-a72e-d8fa5464db2c",
   "metadata": {},
   "source": [
    "# Data Science Tools and Ecosystem"
   ]
  },
  {
   "cell_type": "markdown",
   "id": "6f120a80-fc80-4173-a2f3-3985d6e9d944",
   "metadata": {},
   "source": [
    "This notebook summarizes Data Science tool and uses the Jupyter Ecosystem."
   ]
  },
  {
   "cell_type": "markdown",
   "id": "f766bb0a-464f-4df6-bd73-8482419cfdc0",
   "metadata": {
    "scrolled": true
   },
   "source": [
    "The most popular progamming languages in data science including the following:\n",
    "\n",
    "1. Python\n",
    "2. R\n",
    "3. SQL\n",
    "4. Scala\n",
    "5. Julia"
   ]
  },
  {
   "cell_type": "markdown",
   "id": "fe579d2c-5902-4e10-8293-9760a745e823",
   "metadata": {},
   "source": [
    "The most popular data science libraries include the following:\n",
    "\n",
    "1. Numpy (computations on arrays in Python)\n",
    "2. Pandas (data manipulation in Python)\n",
    "3. Matplotlib (data viz in Python)\n",
    "4. Scikit-learn\n",
    "5. dplyr (data manipulation in R)\n",
    "6. data.table (data manipulation for large files in R)\n",
    "7. ggplot2 (data viz R)\n",
    "8. caret (machine learning in R)"
   ]
  },
  {
   "cell_type": "markdown",
   "id": "fde94e6a-fca9-4509-a343-a01174ae940e",
   "metadata": {},
   "source": [
    "|Data Science Tools|\n",
    "|------------------|\n",
    "|Jupyter Lab|\n",
    "|R Studio|\n",
    "|PyCharm Community Edition|"
   ]
  },
  {
   "cell_type": "markdown",
   "id": "33242acf-7ca1-4fb9-9d96-ca755ea48945",
   "metadata": {},
   "source": [
    "### Evaluating arithmetic expressions in Python:"
   ]
  },
  {
   "cell_type": "code",
   "execution_count": 12,
   "id": "4ca54c69-b03c-4cb0-a4e5-0c18bcad3ec9",
   "metadata": {},
   "outputs": [
    {
     "data": {
      "text/plain": [
       "17"
      ]
     },
     "execution_count": 12,
     "metadata": {},
     "output_type": "execute_result"
    }
   ],
   "source": [
    "# Simple arithmetic computation involving multiplication and addition\n",
    "(3*4)+5"
   ]
  },
  {
   "cell_type": "code",
   "execution_count": 14,
   "id": "648ebdd9-1583-4c79-bd72-d0556960235b",
   "metadata": {},
   "outputs": [
    {
     "data": {
      "text/plain": [
       "3.3333333333333335"
      ]
     },
     "execution_count": 14,
     "metadata": {},
     "output_type": "execute_result"
    }
   ],
   "source": [
    "# The expression below converts 200 minutes to hours\n",
    "200/60"
   ]
  },
  {
   "cell_type": "markdown",
   "id": "6a7c552a-a8e7-4855-9990-bba17d37fdcf",
   "metadata": {},
   "source": [
    "**Objectives:**\n",
    "* List of popular data science languages\n",
    "* List of popular data science libraries\n",
    "* List of popular data science tools/IDEs\n",
    "* Sample Python code"
   ]
  },
  {
   "cell_type": "markdown",
   "id": "9d5a8780-4b4d-4f3a-aa8c-19c3764e732a",
   "metadata": {},
   "source": [
    "## Author\n",
    "Julian Simington"
   ]
  },
  {
   "cell_type": "code",
   "execution_count": null,
   "id": "f198cc2e-0ff9-42f5-96a1-4509c50ca1a0",
   "metadata": {},
   "outputs": [],
   "source": []
  }
 ],
 "metadata": {
  "kernelspec": {
   "display_name": "Python [conda env:base] *",
   "language": "python",
   "name": "conda-base-py"
  },
  "language_info": {
   "codemirror_mode": {
    "name": "ipython",
    "version": 3
   },
   "file_extension": ".py",
   "mimetype": "text/x-python",
   "name": "python",
   "nbconvert_exporter": "python",
   "pygments_lexer": "ipython3",
   "version": "3.12.7"
  }
 },
 "nbformat": 4,
 "nbformat_minor": 5
}
